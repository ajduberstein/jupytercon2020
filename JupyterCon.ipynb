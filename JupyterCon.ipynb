{
 "cells": [
  {
   "cell_type": "code",
   "execution_count": null,
   "metadata": {},
   "outputs": [],
   "source": [
    "import pydeck as pdk\n",
    "from presentation import widen_margins\n",
    "\n",
    "widen_margins()"
   ]
  },
  {
   "cell_type": "markdown",
   "metadata": {},
   "source": [
    "# pydeck: High scale geospatial visualization in Python"
   ]
  },
  {
   "cell_type": "markdown",
   "metadata": {},
   "source": [
    "You can find this Notebook and the others associated with this talk at: https://github.com/ajduberstein/jupytercon2020\n",
    "\n",
    "Follow the installation instructions before diving into this demo: https://pydeck.gl/installation.html\n",
    "\n",
    "### Use case: Detecting click farms"
   ]
  },
  {
   "cell_type": "markdown",
   "metadata": {},
   "source": [
    "Fraudsters might set up account registration “click farms” to create accounts that they can then resell.\n",
    "\n",
    "These user accounts might take advantage of first time user promotions (e.g. “Sign up and get your first order free”)\n",
    "\n",
    "![img](https://video-images.vice.com/_uncategorized/1564604987916-image.jpeg?resize=500:*)\n",
    "\n",
    "Logging GPS location of sign-up from a mobile app is one way to combat this kind of fraud. Below we see a map of signup locations in Ningbo, China."
   ]
  },
  {
   "cell_type": "code",
   "execution_count": null,
   "metadata": {},
   "outputs": [],
   "source": [
    "SIGNUPS_URL = 'https://raw.githubusercontent.com/ajduberstein/geo_datasets/master/synthetic_signups.csv'\n",
    "\n",
    "view = pdk.ViewState(**{\n",
    "    \"latitude\": 29.87540918861734,\n",
    "    \"longitude\": 121.68547038460048,\n",
    "    \"bearing\": 0,\n",
    "    \"pitch\": 0,\n",
    "    \"zoom\": 9.029756252609365\n",
    "})\n",
    "\n",
    "layer = pdk.Layer(\n",
    "    'ScatterplotLayer',\n",
    "    data=SIGNUPS_URL,\n",
    "    get_position=['x', 'y'],\n",
    "    radius_min_pixels=1,\n",
    "    pickable=True,\n",
    "    auto_highlight=True,\n",
    "    stroked=True,\n",
    "    get_line_color=[255, 255, 255],\n",
    "    get_fill_color=[200, 0, 200, 170],\n",
    "    get_radius=350,\n",
    ")\n",
    "\n",
    "deck = pdk.Deck(\n",
    "    layer,\n",
    "    initial_view_state=view,\n",
    "    map_style=pdk.map_styles.DARK_NO_LABELS,\n",
    "    tooltip=None\n",
    ")\n",
    "deck.show()"
   ]
  },
  {
   "cell_type": "code",
   "execution_count": null,
   "metadata": {
    "scrolled": false
   },
   "outputs": [],
   "source": [
    "# Color palette from ColorBrewer2: https://colorbrewer2.org/\n",
    "COLOR_RANGE = [\n",
    "    [254, 217, 118],\n",
    "    [254, 178, 76],\n",
    "    [253, 141, 60],\n",
    "    [252, 78, 42],\n",
    "    [227, 26, 28],\n",
    "    [189, 0, 38],\n",
    "    [128, 0, 38],\n",
    "]\n",
    "\n",
    "\n",
    "layer = pdk.Layer(\n",
    "    'HexagonLayer',\n",
    "    data=SIGNUPS_URL,\n",
    "    get_position=['x', 'y'],\n",
    "    elevation_scale=50,\n",
    "    stroked=True,\n",
    "    opacity=0.6,\n",
    "    pickable=True,\n",
    "    auto_highlight=True,\n",
    "    color_range=COLOR_RANGE,\n",
    "    elevation_range=[0, 1000],\n",
    "    extruded=True,\n",
    "    material=False,\n",
    "    coverage=1,\n",
    ")\n",
    "\n",
    "deck = pdk.Deck(\n",
    "    layer,\n",
    "    initial_view_state=view,\n",
    "    map_style=pdk.map_styles.SATELLITE,\n",
    "    tooltip={'text': 'Number of sign-ups in hexagon: {elevationValue}'}\n",
    ")\n",
    "deck.show()"
   ]
  },
  {
   "cell_type": "markdown",
   "metadata": {},
   "source": [
    "## How does pydeck work?\n",
    "\n",
    "pydeck is a wrapper around [deck.gl](https://deck.gl), which is a JavaScript library for high scale geospatial visualization built at Uber.\n",
    "\n",
    "### High volumes of data"
   ]
  },
  {
   "cell_type": "code",
   "execution_count": null,
   "metadata": {},
   "outputs": [],
   "source": [
    "from IPython.display import IFrame\n",
    "IFrame('https://deck.gl/examples/scatterplot-layer/', height=700, width=1400)"
   ]
  },
  {
   "cell_type": "markdown",
   "metadata": {},
   "source": [
    "### Update on high volume data"
   ]
  },
  {
   "cell_type": "code",
   "execution_count": null,
   "metadata": {
    "scrolled": false
   },
   "outputs": [],
   "source": [
    "IFrame('https://deck.gl/examples/data-filter-extension/', height=700, width=1400)"
   ]
  },
  {
   "cell_type": "code",
   "execution_count": null,
   "metadata": {
    "scrolled": false
   },
   "outputs": [],
   "source": [
    "from IPython.display import IFrame\n",
    "\n",
    "# See the API docs: https://deck.gl/docs/api-reference/json/overview\n",
    "IFrame('https://deck.gl/playground', height=700, width=1400)"
   ]
  },
  {
   "cell_type": "markdown",
   "metadata": {},
   "source": [
    "# Under the hood\n",
    "\n",
    "### Beneath the hood, most the heavy lifting of pydeck is done by two JavaScript libraries:\n",
    "\n",
    "```\n",
    "pydeck  <-  Python library that writes out a config for a deck.gl visualization in JSON\n",
    "  |\n",
    "  +---- @deck.gl/json  <-  JavaScript library that converts a JSON config to a deck.gl visualization\n",
    "  |\n",
    "  +---- @deck.gl/jupyter-widget  <-  Connects visualization to Jupyter, Streamlit, Colab\n",
    "```\n",
    "\n",
    "### The goal is that JavaScript is abstracted away, so that you only have to understand Python to use most of deck.gl."
   ]
  },
  {
   "cell_type": "code",
   "execution_count": null,
   "metadata": {
    "scrolled": true
   },
   "outputs": [],
   "source": [
    "import pprint\n",
    "import json\n",
    "\n",
    "# Copy the JSON from the signups visualization into the IFrame above\n",
    "print(deck.deck_widget.json_input)"
   ]
  },
  {
   "cell_type": "markdown",
   "metadata": {},
   "source": [
    "### Like its parent library, pydeck aims to be interactive and easy-to-update"
   ]
  },
  {
   "cell_type": "code",
   "execution_count": null,
   "metadata": {
    "scrolled": false
   },
   "outputs": [],
   "source": [
    "from datetime import datetime\n",
    "import time\n",
    "\n",
    "import ipywidgets\n",
    "import pandas as pd\n",
    "\n",
    "WHALES = 'https://raw.githubusercontent.com/ajduberstein/migration_data/master/whales.csv'\n",
    "\n",
    "df = pd.read_csv(WHALES)\n",
    "\n",
    "def day_of_year_to_display(d: int) -> str:\n",
    "    return datetime.strptime(str(d), '%j').strftime('%B %d')\n",
    "\n",
    "def to_day_of_year(d: str) -> int:\n",
    "    return int(datetime.strptime(d, '%Y-%m-%d %H:%M:%S').strftime('%-j'))\n",
    "\n",
    "# Clean date columns\n",
    "df['day'] = df['timestamp'].apply(to_day_of_year)\n",
    "\n",
    "# Assign a random color to each individual\n",
    "color_lookup = pdk.data_utils.assign_random_colors(df['tag_ident'])\n",
    "df['c'] = df['tag_ident'].apply(lambda row: color_lookup.get(row))\n",
    "df = df[['c', 'tag_ident', 'day', 'long', 'lat']]\n",
    "\n",
    "scatter = pdk.Layer(\n",
    "    'ScatterplotLayer',\n",
    "    df,\n",
    "    get_position=['long', 'lat'],\n",
    "    auto_highlight=True,\n",
    "    pickable=True,\n",
    "    radius_min_pixels=3,\n",
    "    get_radius=100,\n",
    "    get_fill_color='c'\n",
    ")\n",
    "\n",
    "view = pdk.ViewState(**{\n",
    "    \"latitude\": 35.163421085393786,\n",
    "    \"longitude\": -128.40947805316154,\n",
    "    \"bearing\": 0,\n",
    "    \"pitch\": 0,\n",
    "    \"zoom\": 3.275700834082031\n",
    "})\n",
    "\n",
    "deck = pdk.Deck(\n",
    "    [scatter],\n",
    "    initial_view_state=view,\n",
    "    tooltip={'text': '{tag_ident} on day {day}'}\n",
    ")\n",
    "\n",
    "ts = ipywidgets.HTML()\n",
    "ts.value = '<h1>Blue whale migratory paths</h1>'\n",
    "\n",
    "display(ts)\n",
    "display(deck.show())\n",
    "\n",
    "def run():\n",
    "    global deck\n",
    "    global ts\n",
    "    global df\n",
    "\n",
    "\n",
    "    for i in range(1, 366):\n",
    "        deck.layers[0].data = df[(i - 5 < df['day']) & (df['day'] <= i)]\n",
    "        deck.update()\n",
    "        display_date = day_of_year_to_display(i)\n",
    "        ts.value = f'<h1>{display_date}</h1>'\n",
    "        time.sleep(0.1)\n",
    "\n",
    "def display_all():\n",
    "    global ts\n",
    "    global deck\n",
    "    ts.value = '<h1>Blue whale migratory paths</h1>'\n",
    "    deck.layers[0].data = df\n",
    "    deck.update()"
   ]
  },
  {
   "cell_type": "code",
   "execution_count": null,
   "metadata": {
    "scrolled": false
   },
   "outputs": [],
   "source": [
    "run()\n",
    "display_all()"
   ]
  },
  {
   "cell_type": "markdown",
   "metadata": {},
   "source": [
    "# How to use pydeck: Line by line"
   ]
  },
  {
   "cell_type": "code",
   "execution_count": null,
   "metadata": {},
   "outputs": [],
   "source": [
    "import geopandas as gpd\n",
    "import pandas as pd\n",
    "\n",
    "UK_ACCIDENTS_DATA = (\n",
    "    \"https://raw.githubusercontent.com/ajduberstein/geo_datasets/master/uk-accidents-2014.csv\"\n",
    ")\n",
    "\n",
    "df = pd.read_csv(UK_ACCIDENTS_DATA)\n",
    "df.head()"
   ]
  },
  {
   "cell_type": "markdown",
   "metadata": {},
   "source": [
    "## Basic example: Plotting a scatter plot"
   ]
  },
  {
   "cell_type": "code",
   "execution_count": null,
   "metadata": {
    "scrolled": false
   },
   "outputs": [],
   "source": [
    "import pydeck as pdk\n",
    "\n",
    "UK_ACCIDENTS_DATA = (\n",
    "    \"https://raw.githubusercontent.com/ajduberstein/geo_datasets/master/uk-accidents-2014.csv\"\n",
    ")\n",
    "\n",
    "\n",
    "df = pd.read_csv(UK_ACCIDENTS_DATA)\n",
    "\n",
    "# Define a layer to display on a map\n",
    "layer = pdk.Layer(\n",
    "    \"ScatterplotLayer\",\n",
    "    df,\n",
    "    get_position=[\"lng\", \"lat\"],\n",
    "    # You can see the the deck.gl ScatterplotLayer docs for more info:\n",
    "    # https://deck.gl/docs/api-reference/layers/scatterplot-layer\n",
    "    auto_highlight=True,\n",
    "    # Smallest a point is allowed to get–here, at least one pixel\n",
    "    radius_min_pixels=1,\n",
    "    # RGBA color value of point's fill\n",
    "    get_fill_color=[255, 139, 51, 140],\n",
    "    # Radius of the point in meters\n",
    "    get_radius=100,\n",
    ")\n",
    "\n",
    "# Set the viewport location\n",
    "## You can use a tool like https://duberste.in/viewport_finder/ to find this quickly\n",
    "view_state = pdk.ViewState(**{\n",
    "    \"longitude\": -3.2765753,\n",
    "    \"latitude\": 54.7023545,\n",
    "    \"zoom\": 4.482198792800248,\n",
    "    \"pitch\": 0,\n",
    "    \"bearing\": 0\n",
    "})\n",
    "\n",
    "# Render\n",
    "r = pdk.Deck(\n",
    "    layers=[layer],\n",
    "    initial_view_state=view_state,\n",
    "    map_provider='google_maps',\n",
    "    map_style='satellite',\n",
    ")\n",
    "r.to_html()"
   ]
  },
  {
   "cell_type": "code",
   "execution_count": null,
   "metadata": {},
   "outputs": [],
   "source": [
    "IFrame('https://duberste.in/viewport_finder/', width=1000, height=700)"
   ]
  },
  {
   "cell_type": "markdown",
   "metadata": {},
   "source": [
    "## Aggregating to hexagon"
   ]
  },
  {
   "cell_type": "code",
   "execution_count": null,
   "metadata": {},
   "outputs": [],
   "source": [
    "import pydeck as pdk\n",
    "\n",
    "# Same data set, read directly from a URL\n",
    "UK_ACCIDENTS_DATA = (\n",
    "    \"https://raw.githubusercontent.com/ajduberstein/geo_datasets/master/uk-accidents-2014.csv\"\n",
    ")\n",
    "\n",
    "# Define a layer to display on a map\n",
    "layer = pdk.Layer(\n",
    "    \"HexagonLayer\",\n",
    "    UK_ACCIDENTS_DATA,\n",
    "    get_position=[\"lng\", \"lat\"],\n",
    "    # You can see the the deck.gl HexagonLayer docs for more info:\n",
    "    # https://deck.gl/docs/api-reference/aggregation-layers/hexagon-layer\n",
    "    auto_highlight=True,\n",
    "    elevation_scale=50,\n",
    "    pickable=True,\n",
    "    elevation_range=[0, 3000],\n",
    "    extruded=True,\n",
    "    coverage=1,\n",
    ")\n",
    "\n",
    "# Set the viewport location\n",
    "## You can use a tool like https://duberste.in/viewport_finder/ to find this quickly\n",
    "view_state = pdk.ViewState(\n",
    "    longitude=-1.415,\n",
    "    latitude=52.2323,\n",
    "    zoom=6,\n",
    "    min_zoom=5,\n",
    "    max_zoom=15,\n",
    "    pitch=40.5,\n",
    "    bearing=-27.36,\n",
    ")\n",
    "\n",
    "# Render\n",
    "r = pdk.Deck(\n",
    "    layers=[layer],\n",
    "    initial_view_state=view_state,\n",
    "    map_style=pdk.map_styles.DARK_NO_LABELS,\n",
    "    tooltip={'html': '<b>Number of observations:</b> {elevationValue}'}\n",
    ")\n",
    "r.show()\n"
   ]
  },
  {
   "cell_type": "markdown",
   "metadata": {},
   "source": [
    "## Plotting GeoJSON with geopandas"
   ]
  },
  {
   "cell_type": "code",
   "execution_count": null,
   "metadata": {
    "scrolled": false
   },
   "outputs": [],
   "source": [
    "HURRICANES_URL = 'https://raw.githubusercontent.com/ajduberstein/geo_datasets/master/historical-hurricanes.geo.json'\n",
    "gdf = gpd.read_file(HURRICANES_URL)\n",
    "gdf = gdf[['name', 'geometry', 'year', 'maximum_sustained_wind']]\n",
    "gdf.head()"
   ]
  },
  {
   "cell_type": "code",
   "execution_count": null,
   "metadata": {
    "scrolled": false
   },
   "outputs": [],
   "source": [
    "# You can plot GeoJSON via GeoPandas, without specifying a position column\n",
    "layers = pdk.Layer(\n",
    "    \"GeoJsonLayer\",\n",
    "    data=gdf,\n",
    "    pickable=True,  # Data can be selected\n",
    "    stroked=False,  # Data shouldn't have an outline\n",
    "    filled=True,  # Polygons should be filled\n",
    "    line_width_scale=20,\n",
    "    line_width_min_pixels=2,\n",
    "    get_line_color='[maximum_sustained_wind, 0, maximum_sustained_wind, 200]',\n",
    "    get_radius=10,\n",
    "    get_line_width=1,\n",
    ")\n",
    "TOOLTIP_HTML = ('<b>{name}</b><br />'\n",
    "                '<b>Year:</b> {year}<br />'\n",
    "                '<b>Wind speed:</b> {maximum_sustained_wind} MPH')\n",
    "deck = pdk.Deck(\n",
    "    layers,\n",
    "    map_style=pdk.map_styles.LIGHT,\n",
    "    tooltip={'html': TOOLTIP_HTML})\n",
    "deck.show()"
   ]
  },
  {
   "cell_type": "markdown",
   "metadata": {},
   "source": [
    "## Plotting data over time"
   ]
  },
  {
   "cell_type": "code",
   "execution_count": null,
   "metadata": {
    "scrolled": false
   },
   "outputs": [],
   "source": [
    "import time\n",
    "import ipywidgets\n",
    "\n",
    "# You can plot GeoJSON via GeoPandas, without specifying a position column\n",
    "layer = pdk.Layer(\n",
    "    \"GeoJsonLayer\",\n",
    "    data=gdf,\n",
    "    pickable=True,  # Data can be selected\n",
    "    stroked=False,  # Data shouldn't have an outline\n",
    "    filled=True,    # Polygons should be filled\n",
    "    line_width_scale=20,\n",
    "    line_width_min_pixels=2,\n",
    "    get_line_color='[maximum_sustained_wind, 0, maximum_sustained_wind, 200]',\n",
    "    get_radius=10,\n",
    "    get_line_width=1,\n",
    ")\n",
    "deck = pdk.Deck(layer, tooltip={'text': '{name} in {year}'}, map_style=pdk.map_styles.LIGHT)\n",
    "\n",
    "year = ipywidgets.HTML()\n",
    "display(year)\n",
    "display(deck.show())\n",
    "gdf['year'] = gdf['year'].astype('int32')"
   ]
  },
  {
   "cell_type": "code",
   "execution_count": null,
   "metadata": {},
   "outputs": [],
   "source": [
    "for i in range(gdf.year.min(), gdf.year.max() + 1):\n",
    "    deck.layers[0].data = gdf[gdf['year'] == i]\n",
    "    deck.update()\n",
    "    year.value = f'<b>{i}</b>'\n",
    "    time.sleep(0.1)"
   ]
  },
  {
   "cell_type": "code",
   "execution_count": null,
   "metadata": {},
   "outputs": [],
   "source": []
  }
 ],
 "metadata": {
  "kernelspec": {
   "display_name": "Python 3",
   "language": "python",
   "name": "python3"
  },
  "language_info": {
   "codemirror_mode": {
    "name": "ipython",
    "version": 3
   },
   "file_extension": ".py",
   "mimetype": "text/x-python",
   "name": "python",
   "nbconvert_exporter": "python",
   "pygments_lexer": "ipython3",
   "version": "3.7.7"
  },
  "widgets": {
   "application/vnd.jupyter.widget-state+json": {
    "state": {},
    "version_major": 2,
    "version_minor": 0
   }
  }
 },
 "nbformat": 4,
 "nbformat_minor": 4
}
