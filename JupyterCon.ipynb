{
 "cells": [
  {
   "cell_type": "code",
   "execution_count": 1,
   "metadata": {},
   "outputs": [],
   "source": [
    "import pydeck as pdk"
   ]
  },
  {
   "cell_type": "markdown",
   "metadata": {},
   "source": [
    "# pydeck: High scale geospatial visualization in Python"
   ]
  },
  {
   "cell_type": "code",
   "execution_count": 2,
   "metadata": {},
   "outputs": [
    {
     "data": {
      "text/html": [
       "<div>\n",
       "<style scoped>\n",
       "    .dataframe tbody tr th:only-of-type {\n",
       "        vertical-align: middle;\n",
       "    }\n",
       "\n",
       "    .dataframe tbody tr th {\n",
       "        vertical-align: top;\n",
       "    }\n",
       "\n",
       "    .dataframe thead th {\n",
       "        text-align: right;\n",
       "    }\n",
       "</style>\n",
       "<table border=\"1\" class=\"dataframe\">\n",
       "  <thead>\n",
       "    <tr style=\"text-align: right;\">\n",
       "      <th></th>\n",
       "      <th>lng</th>\n",
       "      <th>lat</th>\n",
       "    </tr>\n",
       "  </thead>\n",
       "  <tbody>\n",
       "    <tr>\n",
       "      <th>0</th>\n",
       "      <td>-0.198465</td>\n",
       "      <td>51.505538</td>\n",
       "    </tr>\n",
       "    <tr>\n",
       "      <th>1</th>\n",
       "      <td>-0.178838</td>\n",
       "      <td>51.491836</td>\n",
       "    </tr>\n",
       "    <tr>\n",
       "      <th>2</th>\n",
       "      <td>-0.205590</td>\n",
       "      <td>51.514910</td>\n",
       "    </tr>\n",
       "    <tr>\n",
       "      <th>3</th>\n",
       "      <td>-0.208327</td>\n",
       "      <td>51.514952</td>\n",
       "    </tr>\n",
       "    <tr>\n",
       "      <th>4</th>\n",
       "      <td>-0.206022</td>\n",
       "      <td>51.496572</td>\n",
       "    </tr>\n",
       "  </tbody>\n",
       "</table>\n",
       "</div>"
      ],
      "text/plain": [
       "        lng        lat\n",
       "0 -0.198465  51.505538\n",
       "1 -0.178838  51.491836\n",
       "2 -0.205590  51.514910\n",
       "3 -0.208327  51.514952\n",
       "4 -0.206022  51.496572"
      ]
     },
     "execution_count": 2,
     "metadata": {},
     "output_type": "execute_result"
    }
   ],
   "source": [
    "import geopandas as gpd\n",
    "import pandas as pd\n",
    "\n",
    "UK_ACCIDENTS_DATA = (\n",
    "    \"https://raw.githubusercontent.com/ajduberstein/geo_datasets/master/uk-accidents-2014.csv\"\n",
    ")\n",
    "\n",
    "df = pd.read_csv(UK_ACCIDENTS_DATA)\n",
    "df.head()"
   ]
  },
  {
   "cell_type": "markdown",
   "metadata": {},
   "source": [
    "## Basic example: Plotting a Scatter Plot"
   ]
  },
  {
   "cell_type": "code",
   "execution_count": 3,
   "metadata": {},
   "outputs": [
    {
     "data": {
      "application/vnd.jupyter.widget-view+json": {
       "model_id": "e56bd8ea3feb48ffafa67758c5633456",
       "version_major": 2,
       "version_minor": 0
      },
      "text/plain": [
       "DeckGLWidget(google_maps_key=None, json_input='{\"initialViewState\": {\"bearing\": -27.36, \"latitude\": 52.2323, \"…"
      ]
     },
     "metadata": {},
     "output_type": "display_data"
    }
   ],
   "source": [
    "import pydeck as pdk\n",
    "\n",
    "UK_ACCIDENTS_DATA = (\n",
    "    \"https://raw.githubusercontent.com/ajduberstein/geo_datasets/master/uk-accidents-2014.csv\"\n",
    ")\n",
    "\n",
    "\n",
    "df = pd.read_csv(UK_ACCIDENTS_DATA)\n",
    "\n",
    "# Define a layer to display on a map\n",
    "layer = pdk.Layer(\n",
    "    \"ScatterplotLayer\",\n",
    "    df,\n",
    "    get_position=[\"lng\", \"lat\"],\n",
    "    # You can see the the deck.gl ScatterplotLayer docs for more info:\n",
    "    # https://deck.gl/docs/api-reference/layers/scatterplot-layer\n",
    "    auto_highlight=True,\n",
    "    # Smallest a point is allowed to get–here, at least one pixel\n",
    "    radius_min_pixels=1,\n",
    "    # RGBA color value of point's fill\n",
    "    get_fill_color=[255, 139, 51, 140],\n",
    "    # Radius of the point in meters\n",
    "    get_radius=100,\n",
    ")\n",
    "\n",
    "# Set the viewport location\n",
    "## You can use a tool like https://duberste.in/viewport_finder/ to find this quickly\n",
    "view_state = pdk.ViewState(\n",
    "    longitude=-1.415, latitude=52.2323, zoom=6, min_zoom=5, max_zoom=15, pitch=40.5, bearing=-27.36,\n",
    ")\n",
    "\n",
    "# Render\n",
    "r = pdk.Deck(\n",
    "    layers=[layer],\n",
    "    initial_view_state=view_state,\n",
    "    map_style=pdk.map_styles.DARK_NO_LABELS,\n",
    ")\n",
    "r.show()"
   ]
  },
  {
   "cell_type": "markdown",
   "metadata": {},
   "source": [
    "## Aggregating to Hexagon"
   ]
  },
  {
   "cell_type": "code",
   "execution_count": 4,
   "metadata": {},
   "outputs": [
    {
     "data": {
      "application/vnd.jupyter.widget-view+json": {
       "model_id": "cd03bebc329a4424aeb184d7a3d68bdf",
       "version_major": 2,
       "version_minor": 0
      },
      "text/plain": [
       "DeckGLWidget(google_maps_key=None, json_input='{\"initialViewState\": {\"bearing\": -27.36, \"latitude\": 52.2323, \"…"
      ]
     },
     "metadata": {},
     "output_type": "display_data"
    }
   ],
   "source": [
    "import pydeck as pdk\n",
    "\n",
    "# Same data set, read directly from a URL\n",
    "UK_ACCIDENTS_DATA = (\n",
    "    \"https://raw.githubusercontent.com/ajduberstein/geo_datasets/master/uk-accidents-2014.csv\"\n",
    ")\n",
    "\n",
    "# Define a layer to display on a map\n",
    "layer = pdk.Layer(\n",
    "    \"HexagonLayer\",\n",
    "    UK_ACCIDENTS_DATA,\n",
    "    get_position=[\"lng\", \"lat\"],\n",
    "    # You can see the the deck.gl HexagonLayer docs for more info:\n",
    "    # https://deck.gl/docs/api-reference/aggregation-layers/hexagon-layer\n",
    "    auto_highlight=True,\n",
    "    elevation_scale=50,\n",
    "    pickable=True,\n",
    "    elevation_range=[0, 3000],\n",
    "    extruded=True,\n",
    "    coverage=1,\n",
    ")\n",
    "\n",
    "# Set the viewport location\n",
    "## You can use a tool like https://duberste.in/viewport_finder/ to find this quickly\n",
    "view_state = pdk.ViewState(\n",
    "    longitude=-1.415,\n",
    "    latitude=52.2323,\n",
    "    zoom=6,\n",
    "    min_zoom=5,\n",
    "    max_zoom=15,\n",
    "    pitch=40.5,\n",
    "    bearing=-27.36,\n",
    ")\n",
    "\n",
    "# Render\n",
    "r = pdk.Deck(\n",
    "    layers=[layer],\n",
    "    initial_view_state=view_state,\n",
    "    map_style=pdk.map_styles.DARK_NO_LABELS,\n",
    "    tooltip={'text': 'Number of observations: {elevationValue}'}\n",
    ")\n",
    "r.show()"
   ]
  },
  {
   "cell_type": "markdown",
   "metadata": {},
   "source": [
    "## Plotting GeoJSON with geopandas"
   ]
  },
  {
   "cell_type": "code",
   "execution_count": 5,
   "metadata": {
    "scrolled": false
   },
   "outputs": [
    {
     "data": {
      "text/html": [
       "<div>\n",
       "<style scoped>\n",
       "    .dataframe tbody tr th:only-of-type {\n",
       "        vertical-align: middle;\n",
       "    }\n",
       "\n",
       "    .dataframe tbody tr th {\n",
       "        vertical-align: top;\n",
       "    }\n",
       "\n",
       "    .dataframe thead th {\n",
       "        text-align: right;\n",
       "    }\n",
       "</style>\n",
       "<table border=\"1\" class=\"dataframe\">\n",
       "  <thead>\n",
       "    <tr style=\"text-align: right;\">\n",
       "      <th></th>\n",
       "      <th>basin</th>\n",
       "      <th>number</th>\n",
       "      <th>year</th>\n",
       "      <th>name</th>\n",
       "      <th>entries</th>\n",
       "      <th>maximum_sustained_wind</th>\n",
       "      <th>month</th>\n",
       "      <th>day</th>\n",
       "      <th>hour</th>\n",
       "      <th>minute</th>\n",
       "      <th>record_identifier</th>\n",
       "      <th>status_of_system</th>\n",
       "      <th>latitude</th>\n",
       "      <th>longitude</th>\n",
       "      <th>minimum_pressure</th>\n",
       "      <th>geometry</th>\n",
       "    </tr>\n",
       "  </thead>\n",
       "  <tbody>\n",
       "    <tr>\n",
       "      <th>0</th>\n",
       "      <td>AL</td>\n",
       "      <td>01</td>\n",
       "      <td>1851</td>\n",
       "      <td>UNNAMED</td>\n",
       "      <td>14</td>\n",
       "      <td>80</td>\n",
       "      <td>06</td>\n",
       "      <td>25</td>\n",
       "      <td>00</td>\n",
       "      <td>00</td>\n",
       "      <td></td>\n",
       "      <td>HU</td>\n",
       "      <td>28.0</td>\n",
       "      <td>-94.8</td>\n",
       "      <td>-999</td>\n",
       "      <td>LINESTRING (-94.80000 28.00000, -95.40000 28.0...</td>\n",
       "    </tr>\n",
       "    <tr>\n",
       "      <th>1</th>\n",
       "      <td>AL</td>\n",
       "      <td>01</td>\n",
       "      <td>1851</td>\n",
       "      <td>UNNAMED</td>\n",
       "      <td>14</td>\n",
       "      <td>80</td>\n",
       "      <td>06</td>\n",
       "      <td>25</td>\n",
       "      <td>06</td>\n",
       "      <td>00</td>\n",
       "      <td></td>\n",
       "      <td>HU</td>\n",
       "      <td>28.0</td>\n",
       "      <td>-95.4</td>\n",
       "      <td>-999</td>\n",
       "      <td>LINESTRING (-95.40000 28.00000, -96.00000 28.0...</td>\n",
       "    </tr>\n",
       "    <tr>\n",
       "      <th>2</th>\n",
       "      <td>AL</td>\n",
       "      <td>01</td>\n",
       "      <td>1851</td>\n",
       "      <td>UNNAMED</td>\n",
       "      <td>14</td>\n",
       "      <td>80</td>\n",
       "      <td>06</td>\n",
       "      <td>25</td>\n",
       "      <td>12</td>\n",
       "      <td>00</td>\n",
       "      <td></td>\n",
       "      <td>HU</td>\n",
       "      <td>28.0</td>\n",
       "      <td>-96.0</td>\n",
       "      <td>-999</td>\n",
       "      <td>LINESTRING (-96.00000 28.00000, -96.50000 28.1...</td>\n",
       "    </tr>\n",
       "    <tr>\n",
       "      <th>3</th>\n",
       "      <td>AL</td>\n",
       "      <td>01</td>\n",
       "      <td>1851</td>\n",
       "      <td>UNNAMED</td>\n",
       "      <td>14</td>\n",
       "      <td>80</td>\n",
       "      <td>06</td>\n",
       "      <td>25</td>\n",
       "      <td>18</td>\n",
       "      <td>00</td>\n",
       "      <td></td>\n",
       "      <td>HU</td>\n",
       "      <td>28.1</td>\n",
       "      <td>-96.5</td>\n",
       "      <td>-999</td>\n",
       "      <td>LINESTRING (-96.50000 28.10000, -96.80000 28.2...</td>\n",
       "    </tr>\n",
       "    <tr>\n",
       "      <th>4</th>\n",
       "      <td>AL</td>\n",
       "      <td>01</td>\n",
       "      <td>1851</td>\n",
       "      <td>UNNAMED</td>\n",
       "      <td>14</td>\n",
       "      <td>80</td>\n",
       "      <td>06</td>\n",
       "      <td>25</td>\n",
       "      <td>21</td>\n",
       "      <td>00</td>\n",
       "      <td>L</td>\n",
       "      <td>HU</td>\n",
       "      <td>28.2</td>\n",
       "      <td>-96.8</td>\n",
       "      <td>-999</td>\n",
       "      <td>LINESTRING (-96.80000 28.20000, -97.00000 28.2...</td>\n",
       "    </tr>\n",
       "  </tbody>\n",
       "</table>\n",
       "</div>"
      ],
      "text/plain": [
       "  basin number  year     name entries  maximum_sustained_wind month day hour  \\\n",
       "0    AL     01  1851  UNNAMED      14                      80    06  25   00   \n",
       "1    AL     01  1851  UNNAMED      14                      80    06  25   06   \n",
       "2    AL     01  1851  UNNAMED      14                      80    06  25   12   \n",
       "3    AL     01  1851  UNNAMED      14                      80    06  25   18   \n",
       "4    AL     01  1851  UNNAMED      14                      80    06  25   21   \n",
       "\n",
       "  minute record_identifier status_of_system  latitude  longitude  \\\n",
       "0     00                                 HU      28.0      -94.8   \n",
       "1     00                                 HU      28.0      -95.4   \n",
       "2     00                                 HU      28.0      -96.0   \n",
       "3     00                                 HU      28.1      -96.5   \n",
       "4     00                 L               HU      28.2      -96.8   \n",
       "\n",
       "  minimum_pressure                                           geometry  \n",
       "0             -999  LINESTRING (-94.80000 28.00000, -95.40000 28.0...  \n",
       "1             -999  LINESTRING (-95.40000 28.00000, -96.00000 28.0...  \n",
       "2             -999  LINESTRING (-96.00000 28.00000, -96.50000 28.1...  \n",
       "3             -999  LINESTRING (-96.50000 28.10000, -96.80000 28.2...  \n",
       "4             -999  LINESTRING (-96.80000 28.20000, -97.00000 28.2...  "
      ]
     },
     "execution_count": 5,
     "metadata": {},
     "output_type": "execute_result"
    }
   ],
   "source": [
    "HURRICANES_URL = 'https://raw.githubusercontent.com/ajduberstein/geo_datasets/master/historical-hurricanes.geo.json'\n",
    "gdf = gpd.read_file(HURRICANES_URL)\n",
    "gdf.head()"
   ]
  },
  {
   "cell_type": "code",
   "execution_count": 6,
   "metadata": {},
   "outputs": [
    {
     "data": {
      "application/vnd.jupyter.widget-view+json": {
       "model_id": "168b15c9b8f740b7b8831e7fb801167a",
       "version_major": 2,
       "version_minor": 0
      },
      "text/plain": [
       "DeckGLWidget(google_maps_key=None, json_input='{\"initialViewState\": {\"latitude\": 0, \"longitude\": 0, \"zoom\": 1}…"
      ]
     },
     "metadata": {},
     "output_type": "display_data"
    }
   ],
   "source": [
    "# You can plot GeoJSON via GeoPandas, without specifying a position column\n",
    "layers = pdk.Layer(\n",
    "    \"GeoJsonLayer\",\n",
    "    data=gdf,\n",
    "    pickable=True,  # Data can be selected\n",
    "    stroked=False,  # Data shouldn't have an outline\n",
    "    filled=True,  # Polygons should be filled\n",
    "    line_width_scale=20,\n",
    "    line_width_min_pixels=2,\n",
    "    get_line_color=[200, 160, 180, 200],\n",
    "    get_radius=10,\n",
    "    get_line_width=1,\n",
    ")\n",
    "deck = pdk.Deck(layers, tooltip={'text': '{name} in {year}'})\n",
    "\n",
    "deck.show()"
   ]
  },
  {
   "cell_type": "markdown",
   "metadata": {},
   "source": [
    "## Plotting data over time"
   ]
  },
  {
   "cell_type": "code",
   "execution_count": 7,
   "metadata": {},
   "outputs": [
    {
     "data": {
      "application/vnd.jupyter.widget-view+json": {
       "model_id": "3404260ec0f54f7bbcbddf2a636bbfe3",
       "version_major": 2,
       "version_minor": 0
      },
      "text/plain": [
       "HTML(value='')"
      ]
     },
     "metadata": {},
     "output_type": "display_data"
    },
    {
     "data": {
      "application/vnd.jupyter.widget-view+json": {
       "model_id": "c0230297a1074ce097dd65e6bf38cf91",
       "version_major": 2,
       "version_minor": 0
      },
      "text/plain": [
       "DeckGLWidget(google_maps_key=None, json_input='{\"initialViewState\": {\"latitude\": 0, \"longitude\": 0, \"zoom\": 1}…"
      ]
     },
     "metadata": {},
     "output_type": "display_data"
    }
   ],
   "source": [
    "import time\n",
    "import ipywidgets\n",
    "\n",
    "# You can plot GeoJSON via GeoPandas, without specifying a position column\n",
    "layer = pdk.Layer(\n",
    "    \"GeoJsonLayer\",\n",
    "    data=gdf,\n",
    "    pickable=True,  # Data can be selected\n",
    "    stroked=False,  # Data shouldn't have an outline\n",
    "    filled=True,    # Polygons should be filled\n",
    "    line_width_scale=20,\n",
    "    line_width_min_pixels=2,\n",
    "    get_line_color=[200, 160, 180, 200],\n",
    "    get_radius=10,\n",
    "    get_line_width=1,\n",
    ")\n",
    "deck = pdk.Deck(layer, tooltip={'text': '{name} in {year}'})\n",
    "\n",
    "year = ipywidgets.HTML()\n",
    "display(year)\n",
    "display(deck.show())\n",
    "\n",
    "for i in range(int(gdf.year.min()), int(gdf.year.max()) + 1):\n",
    "    deck.layers[0].data = gdf[gdf['year'] == str(i)]\n",
    "    deck.update()\n",
    "    year.value = f'<b>{i}</b>'\n",
    "    time.sleep(0.1)"
   ]
  }
 ],
 "metadata": {
  "kernelspec": {
   "display_name": "Python 3",
   "language": "python",
   "name": "python3"
  },
  "language_info": {
   "codemirror_mode": {
    "name": "ipython",
    "version": 3
   },
   "file_extension": ".py",
   "mimetype": "text/x-python",
   "name": "python",
   "nbconvert_exporter": "python",
   "pygments_lexer": "ipython3",
   "version": "3.8.5"
  },
  "widgets": {
   "application/vnd.jupyter.widget-state+json": {
    "state": {},
    "version_major": 2,
    "version_minor": 0
   }
  }
 },
 "nbformat": 4,
 "nbformat_minor": 4
}
