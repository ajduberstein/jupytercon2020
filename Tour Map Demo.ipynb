{
 "cells": [
  {
   "cell_type": "code",
   "execution_count": 10,
   "metadata": {},
   "outputs": [],
   "source": [
    "import os\n",
    "import requests\n",
    "from collections import namedtuple\n",
    "\n",
    "def check_key():\n",
    "    try:\n",
    "        os.environ['SETLIST_FM_API_KEY']\n",
    "    except KeyError as e:\n",
    "        raise KeyError('Get a setlist.fm API key and set it as the SETLIST_FM_API_KEY environment variable before using this demo')\n",
    "        \n",
    "check_key()\n",
    "\n",
    "def get_setlists(mbid: str):\n",
    "    headers = {'user-agent': 'pydeck-demo', 'Accept': 'application/json', 'X-Api-Key': os.environ['SETLIST_FM_API_KEY']}\n",
    "    r = requests.get(f'https://api.setlist.fm/rest/1.0/artist/{mbid}/setlists')\n",
    "    res_json = r.json()\n",
    "    sets = []\n",
    "    while res_json['page'] * res_json['itemsPerPage'] < total:\n",
    "        sets.extend(unnset_setlist(res_json['setlist']))\n",
    "\n",
    "Artist = namedtuple('Artist', ['name', 'mbid', 'setlists'], defaults=[None] * 3)\n",
    "Setlist = namedtuple('Setlist', ['id', 'event_date', 'venue', 'tour'], defaults=[None] * 4)\n",
    "Venue = namedtuple('Venue', ['name', 'lat', 'lng'], defaults=[None] * 3)\n",
    "\n",
    "def unnest_setlists(setlists_json: list):\n",
    "    sets = []\n",
    "    for setlist in setlists_json:\n",
    "        s = Setlist(\n",
    "            id=setlist['id'],\n",
    "            event_date=setlist['eventDate'],\n",
    "            tour=setlist['tour'].get('name'))\n",
    "        s.venue = Venue(\n",
    "            name=setlist['venue']['name'],\n",
    "            lat=setlist['venue'].get('lat'),\n",
    "            lng=setlist['venue'].get('long'))\n",
    "        sets.append(s)\n",
    "    return sets\n",
    "    \n",
    "\n",
    "def get_all_tours(artist: Artist):\n",
    "    setlists_json = get_setlists(artist.mbid)\n",
    "    setlists = unnest_setlists(setlists_json)\n",
    "    return setlists\n",
    "\n",
    "\n",
    "#     [\n",
    "#      Artist('Bob Dylan', '72c536dc-7137-4477-a521-567eeb840fa8'),\n",
    "#      Artist('The Beatles', 'b10bbbfc-cf9e-42e0-be17-e2c3e1d2600d'),\n",
    "#      Artist('Miles Davis', '561d854a-6a28-4aa7-8c99-323e6ce46c2a'),\n",
    "#      Artist('Aretha Franklin', '2f9ecbed-27be-40e6-abca-6de49d50299e')\n",
    "#  ]"
   ]
  },
  {
   "cell_type": "code",
   "execution_count": 11,
   "metadata": {},
   "outputs": [],
   "source": [
    "haley = Artist(name='Haley Heyndrickx', mbid='f0805df4-1541-48b1-8482-4c789f83cfcf')"
   ]
  },
  {
   "cell_type": "code",
   "execution_count": 13,
   "metadata": {},
   "outputs": [
    {
     "data": {
      "text/plain": [
       "'f0805df4-1541-48b1-8482-4c789f83cfcf'"
      ]
     },
     "execution_count": 13,
     "metadata": {},
     "output_type": "execute_result"
    }
   ],
   "source": []
  }
 ],
 "metadata": {
  "kernelspec": {
   "display_name": "Python 3",
   "language": "python",
   "name": "python3"
  },
  "language_info": {
   "codemirror_mode": {
    "name": "ipython",
    "version": 3
   },
   "file_extension": ".py",
   "mimetype": "text/x-python",
   "name": "python",
   "nbconvert_exporter": "python",
   "pygments_lexer": "ipython3",
   "version": "3.7.7"
  },
  "widgets": {
   "application/vnd.jupyter.widget-state+json": {
    "state": {},
    "version_major": 2,
    "version_minor": 0
   }
  }
 },
 "nbformat": 4,
 "nbformat_minor": 4
}
